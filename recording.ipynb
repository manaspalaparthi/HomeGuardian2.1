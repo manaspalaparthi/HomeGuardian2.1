{
 "cells": [
  {
   "cell_type": "code",
   "execution_count": null,
   "metadata": {
    "collapsed": true
   },
   "outputs": [],
   "source": [
    "import requests\n",
    "\n",
    "\n",
    "# send an api request to all list of ip cameras to start recording\n",
    "\n",
    "cameras = [ \"http://192.168.0.97:8000/\", \"http://192.168.0.212:8000/\",\"http://192.168.0.27:8000/\"]\n",
    "\n",
    "for camera in cameras:\n",
    "\n",
    "    url = camera + \"start_recording\"\n",
    "    print(url)\n",
    "    r = requests.get(url)\n",
    "    print(r.status_code)\n",
    "    print(r.text)\n",
    "    print(r.headers)\n",
    "    print(r.encoding)\n",
    "    print(r.json())"
   ]
  },
  {
   "cell_type": "code",
   "execution_count": null,
   "outputs": [],
   "source": [
    "\n",
    "# send an api request to all list of ip cameras to stop recording\n",
    "cameras = [ \"http://192.168.0.97:8000/\", \"http://192.168.0.212:8000/\",\"http://192.168.0.27:8000/\"]\n",
    "\n",
    "for camera in cameras:\n",
    "\n",
    "    url = camera + \"stop_recording\"\n",
    "    print(url)\n",
    "    r = requests.get(url)\n",
    "    print(r.status_code)\n",
    "    print(r.text)\n",
    "    print(r.headers)\n",
    "    print(r.encoding)\n",
    "    print(r.json())"
   ],
   "metadata": {
    "collapsed": false
   }
  },
  {
   "cell_type": "code",
   "execution_count": null,
   "outputs": [],
   "source": [
    "# Assign device ID to each camera\n",
    "\n",
    "cameras = [ \"http://192.168.0.97:8000/\", \"http://192.168.0.212:8000/\",\"http://192.168.0.27:8000/\"]\n",
    "\n",
    "for i , camera in enumerate(cameras):\n",
    "\n",
    "    url = camera + \"assign_device_id?device_id=\" + str(i)\n",
    "    print(url)\n",
    "    r = requests.get(url)\n",
    "    print(r.status_code)\n",
    "    print(r.text)\n",
    "    print(r.headers)\n",
    "    print(r.encoding)\n",
    "    print(r.json())\n"
   ],
   "metadata": {
    "collapsed": false,
    "is_executing": true
   }
  },
  {
   "cell_type": "code",
   "execution_count": null,
   "outputs": [],
   "source": [],
   "metadata": {
    "collapsed": false,
    "is_executing": true
   }
  },
  {
   "cell_type": "code",
   "execution_count": null,
   "outputs": [],
   "source": [],
   "metadata": {
    "collapsed": false
   }
  }
 ],
 "metadata": {
  "kernelspec": {
   "display_name": "Python 3",
   "language": "python",
   "name": "python3"
  },
  "language_info": {
   "codemirror_mode": {
    "name": "ipython",
    "version": 2
   },
   "file_extension": ".py",
   "mimetype": "text/x-python",
   "name": "python",
   "nbconvert_exporter": "python",
   "pygments_lexer": "ipython2",
   "version": "2.7.6"
  }
 },
 "nbformat": 4,
 "nbformat_minor": 0
}
